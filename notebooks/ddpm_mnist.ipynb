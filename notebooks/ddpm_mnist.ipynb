{
 "cells": [
  {
   "cell_type": "markdown",
   "id": "bc4f2046",
   "metadata": {},
   "source": [
    "# Denoising diffusion: MNIST"
   ]
  },
  {
   "cell_type": "code",
   "execution_count": null,
   "id": "01e025d5",
   "metadata": {},
   "outputs": [],
   "source": [
    "%load_ext autoreload\n",
    "%autoreload 2\n",
    "%matplotlib inline\n",
    "\n",
    "import sys\n",
    "sys.path.append('..')"
   ]
  },
  {
   "cell_type": "code",
   "execution_count": null,
   "id": "b538b570",
   "metadata": {},
   "outputs": [],
   "source": [
    "import pathlib\n",
    "\n",
    "import numpy as np\n",
    "import pandas as pd\n",
    "import matplotlib.pyplot as plt\n",
    "import torch\n",
    "from torch.utils.data import DataLoader\n",
    "from torchvision import datasets, transforms\n",
    "import pytorch_lightning as pl\n",
    "\n",
    "from diffusion import (\n",
    "    DDPM,\n",
    "    UNet,\n",
    "    make_beta_schedule\n",
    ")"
   ]
  },
  {
   "cell_type": "markdown",
   "id": "6f7e6e76",
   "metadata": {},
   "source": [
    "## MNIST data"
   ]
  },
  {
   "cell_type": "code",
   "execution_count": null,
   "id": "e3b1f52c",
   "metadata": {},
   "outputs": [],
   "source": [
    "transform = transforms.Compose([\n",
    "    transforms.RandomRotation(5),\n",
    "    transforms.ToTensor()\n",
    "])"
   ]
  },
  {
   "cell_type": "code",
   "execution_count": null,
   "id": "3a2c1a92",
   "metadata": {},
   "outputs": [],
   "source": [
    "data_path = pathlib.Path.home() / 'Data'\n",
    "\n",
    "train_set = datasets.MNIST(data_path, train=True, transform=transform, download=True)\n",
    "val_set = datasets.MNIST(data_path, train=False, transform=transforms.ToTensor(), download=True)\n",
    "\n",
    "print('No. train images:', len(train_set))\n",
    "print('No. test images:', len(val_set))"
   ]
  },
  {
   "cell_type": "code",
   "execution_count": null,
   "id": "12125192",
   "metadata": {},
   "outputs": [],
   "source": [
    "batch_size = 32\n",
    "\n",
    "train_loader = DataLoader(train_set,\n",
    "                          batch_size=batch_size,\n",
    "                          drop_last=True,\n",
    "                          shuffle=True,\n",
    "                          num_workers=4,\n",
    "                          pin_memory=True)\n",
    "\n",
    "val_loader = DataLoader(val_set,\n",
    "                        batch_size=batch_size,\n",
    "                        drop_last=False,\n",
    "                        shuffle=False,\n",
    "                        num_workers=4,\n",
    "                        pin_memory=True)\n",
    "\n",
    "print('No. train batches:', len(train_loader))\n",
    "print('No. val. batches:', len(val_loader))"
   ]
  },
  {
   "cell_type": "code",
   "execution_count": null,
   "id": "99d262e3",
   "metadata": {},
   "outputs": [],
   "source": [
    "x_batch, y_batch = next(iter(train_loader))\n",
    "print('Images shape:', x_batch.shape)\n",
    "print('Labels shape:', y_batch.shape)"
   ]
  },
  {
   "cell_type": "code",
   "execution_count": null,
   "id": "628a366c",
   "metadata": {},
   "outputs": [],
   "source": [
    "fig, axes = plt.subplots(nrows=2, ncols=4, figsize=(5, 3))\n",
    "for idx, ax in enumerate(axes.ravel()):\n",
    "    image = x_batch[idx, 0].numpy()\n",
    "    label = y_batch[idx].item()\n",
    "    ax.imshow(image, cmap='gray')\n",
    "    ax.set_title(train_set.classes[label])\n",
    "    ax.set(xticks=[], yticks=[], xlabel='', ylabel='')\n",
    "fig.tight_layout()"
   ]
  },
  {
   "cell_type": "markdown",
   "id": "39de1793",
   "metadata": {},
   "source": [
    "## DDPM"
   ]
  },
  {
   "cell_type": "code",
   "execution_count": null,
   "id": "51e3fa9e",
   "metadata": {},
   "outputs": [],
   "source": [
    "eps_model = UNet.from_params(in_channels=1,\n",
    "                             mid_channels=[8, 16, 32],\n",
    "                             kernel_size=3,\n",
    "                             padding=1,\n",
    "                             norm='batch',\n",
    "                             activation='relu',                        \n",
    "                             embed_dim=100,\n",
    "                             num_resblocks=3,\n",
    "                             upsample_mode='bilinear_conv')"
   ]
  },
  {
   "cell_type": "code",
   "execution_count": null,
   "id": "e23459c5",
   "metadata": {},
   "outputs": [],
   "source": [
    "# betas = make_beta_schedule(num_steps=1000, mode='quadratic', beta_range=(1e-04, 0.02))\n",
    "# betas = make_beta_schedule(num_steps=1000, mode='cosine', cosine_s=0.008)\n",
    "betas = make_beta_schedule(num_steps=1000, mode='sigmoid', sigmoid_range=(-5, 5))\n",
    "\n",
    "ddpm = DDPM(eps_model=eps_model, betas=betas, criterion='mse')"
   ]
  },
  {
   "cell_type": "code",
   "execution_count": null,
   "id": "c2616dc2",
   "metadata": {},
   "outputs": [],
   "source": [
    "fig, (ax1, ax2) = plt.subplots(nrows=1, ncols=2, figsize=(8, 3))\n",
    "\n",
    "ax1.plot(np.arange(len(ddpm.betas)) + 1, ddpm.betas)\n",
    "ax1.set(xlim=(0, len(ddpm.betas)), ylim=(0, ddpm.betas.max()))\n",
    "ax1.set(xlabel='t', ylabel='$\\\\beta$')\n",
    "ax1.grid(visible=True, which='both', color='gray', alpha=0.2, linestyle='-')\n",
    "ax1.set_axisbelow(True)\n",
    "\n",
    "ax2.plot(np.arange(len(ddpm.alphas_bar)) + 1, ddpm.alphas_bar)\n",
    "ax2.set(xlim=(0, len(ddpm.alphas_bar)), ylim=(0, 1))\n",
    "ax2.set(xlabel='t', ylabel='$\\\\bar{\\\\alpha}$')\n",
    "ax2.grid(visible=True, which='both', color='gray', alpha=0.2, linestyle='-')\n",
    "ax2.set_axisbelow(True)\n",
    "\n",
    "fig.tight_layout()"
   ]
  },
  {
   "cell_type": "markdown",
   "id": "e5db5c55",
   "metadata": {},
   "source": [
    "## Forward process simulation"
   ]
  },
  {
   "cell_type": "code",
   "execution_count": null,
   "id": "5c9f5d2f",
   "metadata": {},
   "outputs": [],
   "source": [
    "x_noisy = ddpm.diffuse_all_steps(x_batch)"
   ]
  },
  {
   "cell_type": "code",
   "execution_count": null,
   "id": "0ed85552",
   "metadata": {},
   "outputs": [],
   "source": [
    "plot_steps = [0, 50, 100, 200, 500, 1000]\n",
    "\n",
    "sample_idx = np.random.randint(x_noisy.shape[1]) # select random sample from batch\n",
    "\n",
    "fig, axes = plt.subplots(nrows=1, ncols=len(plot_steps), figsize=(8, 2))\n",
    "for time_idx, ax in zip(plot_steps, axes.ravel()):\n",
    "    image = x_noisy[time_idx, sample_idx, 0].numpy()\n",
    "    ax.imshow(image, cmap='gray')\n",
    "    ax.set_title('{} steps'.format(time_idx))\n",
    "    ax.set(xticks=[], yticks=[], xlabel='', ylabel='')\n",
    "fig.tight_layout()"
   ]
  },
  {
   "cell_type": "markdown",
   "id": "7aa4cd8c",
   "metadata": {},
   "source": [
    "## Reverse process training"
   ]
  },
  {
   "cell_type": "code",
   "execution_count": null,
   "id": "f01f5ecf",
   "metadata": {},
   "outputs": [],
   "source": [
    "logger = pl.loggers.CSVLogger('.', name='lightning_logs', version=0)\n",
    "\n",
    "trainer = pl.Trainer(logger=logger,\n",
    "                     accelerator='gpu' if torch.cuda.is_available() else 'cpu',\n",
    "                     devices=1,\n",
    "                     max_epochs=1000,\n",
    "                     log_every_n_steps=len(train_loader),\n",
    "                     enable_progress_bar=True)\n",
    "\n",
    "trainer.validate(ddpm, dataloaders=val_loader, verbose=False) # check validation loss before training\n",
    "trainer.fit(ddpm, train_dataloaders=train_loader, val_dataloaders=val_loader) # start training"
   ]
  },
  {
   "cell_type": "code",
   "execution_count": null,
   "id": "20c4eed5",
   "metadata": {},
   "outputs": [],
   "source": [
    "metrics_df = pd.read_csv('lightning_logs/version_0/metrics.csv')\n",
    "\n",
    "train_df = metrics_df[['step', 'train_loss']].dropna()\n",
    "val_df = metrics_df[['step', 'val_loss']].dropna()"
   ]
  },
  {
   "cell_type": "code",
   "execution_count": null,
   "id": "db549d04",
   "metadata": {},
   "outputs": [],
   "source": [
    "fig, ax = plt.subplots(figsize=(6, 4))\n",
    "ax.plot(train_df['step'], train_df['train_loss'], alpha=0.7, label='train')\n",
    "ax.plot(val_df['step'], val_df['val_loss'], alpha=0.7, label='val')\n",
    "ax.set(xlabel='step', ylabel='loss')\n",
    "ax.set_xlim([0, max(train_df['step'].max(), val_df['step'].max())])\n",
    "ax.legend()\n",
    "ax.grid(visible=True, which='both', color='gray', alpha=0.2, linestyle='-')\n",
    "ax.set_axisbelow(True)\n",
    "fig.tight_layout()"
   ]
  },
  {
   "cell_type": "markdown",
   "id": "bd9dc2bb",
   "metadata": {},
   "source": [
    "## Generation"
   ]
  },
  {
   "cell_type": "code",
   "execution_count": null,
   "id": "98b2f464",
   "metadata": {},
   "outputs": [],
   "source": [
    "device = torch.device('cuda:0' if torch.cuda.is_available() else 'cpu')\n",
    "ddpm = ddpm.to(device)"
   ]
  },
  {
   "cell_type": "code",
   "execution_count": null,
   "id": "10e73990",
   "metadata": {},
   "outputs": [],
   "source": [
    "ddpm.eval()\n",
    "x_denoise = ddpm.denoise_all_steps(torch.randn(16, 1, 28, 28).to(device)).cpu()"
   ]
  },
  {
   "cell_type": "code",
   "execution_count": null,
   "id": "4d1487a1",
   "metadata": {},
   "outputs": [],
   "source": [
    "plot_steps_reverse = [ddpm.num_steps - s for s in reversed(plot_steps)]\n",
    "\n",
    "sample_idx = np.random.randint(x_denoise.shape[1]) # select random sample from batch\n",
    "\n",
    "fig, axes = plt.subplots(nrows=1, ncols=len(plot_steps_reverse), figsize=(8, 2))\n",
    "for time_idx, ax in zip(plot_steps_reverse, axes.ravel()):\n",
    "    image = x_denoise[time_idx, sample_idx, 0].numpy()\n",
    "    ax.imshow(image, cmap='gray')\n",
    "    ax.set_title('{} steps'.format(time_idx))\n",
    "    ax.set(xticks=[], yticks=[], xlabel='', ylabel='')\n",
    "fig.tight_layout()"
   ]
  },
  {
   "cell_type": "code",
   "execution_count": null,
   "id": "c436cac6",
   "metadata": {},
   "outputs": [],
   "source": [
    "x_gen = ddpm.generate(sample_shape=(1, 28, 28), num_samples=16).cpu()"
   ]
  },
  {
   "cell_type": "code",
   "execution_count": null,
   "id": "b7ca6612",
   "metadata": {},
   "outputs": [],
   "source": [
    "fig, axes = plt.subplots(nrows=2, ncols=4, figsize=(5, 3))\n",
    "for idx, ax in enumerate(axes.ravel()):\n",
    "    image = x_gen[idx, 0].numpy()\n",
    "    ax.imshow(image, cmap='gray')\n",
    "    ax.set(xticks=[], yticks=[], xlabel='', ylabel='')\n",
    "fig.tight_layout()"
   ]
  }
 ],
 "metadata": {
  "kernelspec": {
   "display_name": "Python 3 (ipykernel)",
   "language": "python",
   "name": "python3"
  },
  "language_info": {
   "codemirror_mode": {
    "name": "ipython",
    "version": 3
   },
   "file_extension": ".py",
   "mimetype": "text/x-python",
   "name": "python",
   "nbconvert_exporter": "python",
   "pygments_lexer": "ipython3",
   "version": "3.10.9"
  }
 },
 "nbformat": 4,
 "nbformat_minor": 5
}
