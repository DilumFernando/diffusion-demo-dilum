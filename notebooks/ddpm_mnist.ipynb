{
 "cells": [
  {
   "cell_type": "markdown",
   "id": "bc4f2046",
   "metadata": {},
   "source": [
    "# Denoising diffusion: MNIST"
   ]
  },
  {
   "cell_type": "code",
   "execution_count": null,
   "id": "01e025d5",
   "metadata": {},
   "outputs": [],
   "source": [
    "%load_ext autoreload\n",
    "%autoreload 2\n",
    "%matplotlib inline\n",
    "\n",
    "import sys\n",
    "sys.path.append('..')"
   ]
  },
  {
   "cell_type": "code",
   "execution_count": null,
   "id": "b538b570",
   "metadata": {},
   "outputs": [],
   "source": [
    "import numpy as np\n",
    "import matplotlib.pyplot as plt\n",
    "import torch\n",
    "from torch.utils.data import DataLoader\n",
    "from torchvision import datasets, transforms\n",
    "\n",
    "from diffusion import (\n",
    "    DDPM2d,\n",
    "    UNet,\n",
    "    make_beta_schedule\n",
    ")"
   ]
  },
  {
   "cell_type": "markdown",
   "id": "6f7e6e76",
   "metadata": {},
   "source": [
    "## MNIST data"
   ]
  },
  {
   "cell_type": "code",
   "execution_count": null,
   "id": "3a2c1a92",
   "metadata": {},
   "outputs": [],
   "source": [
    "data_path = '../data'\n",
    "\n",
    "val_set = datasets.MNIST(data_path, train=False, transform=transforms.ToTensor(), download=True)\n",
    "\n",
    "print('No. val. images:', len(val_set))"
   ]
  },
  {
   "cell_type": "code",
   "execution_count": null,
   "id": "12125192",
   "metadata": {},
   "outputs": [],
   "source": [
    "batch_size = 32\n",
    "\n",
    "val_loader = DataLoader(val_set,\n",
    "                        batch_size=batch_size,\n",
    "                        drop_last=False,\n",
    "                        shuffle=False,\n",
    "                        num_workers=4,\n",
    "                        pin_memory=True)\n",
    "\n",
    "print('No. val. batches:', len(val_loader))"
   ]
  },
  {
   "cell_type": "code",
   "execution_count": null,
   "id": "99d262e3",
   "metadata": {},
   "outputs": [],
   "source": [
    "x_batch, y_batch = next(iter(val_loader))\n",
    "print('Images shape:', x_batch.shape)\n",
    "print('Labels shape:', y_batch.shape)"
   ]
  },
  {
   "cell_type": "code",
   "execution_count": null,
   "id": "628a366c",
   "metadata": {},
   "outputs": [],
   "source": [
    "fig, axes = plt.subplots(nrows=2, ncols=4, figsize=(5, 3))\n",
    "for idx, ax in enumerate(axes.ravel()):\n",
    "    image = x_batch[idx, 0].numpy()\n",
    "    label = y_batch[idx].item()\n",
    "    ax.imshow(image, cmap='gray')\n",
    "    ax.set_title(val_set.classes[label])\n",
    "    ax.set(xticks=[], yticks=[], xlabel='', ylabel='')\n",
    "fig.tight_layout()"
   ]
  },
  {
   "cell_type": "markdown",
   "id": "39de1793",
   "metadata": {},
   "source": [
    "## DDPM"
   ]
  },
  {
   "cell_type": "code",
   "execution_count": null,
   "id": "024fa07b",
   "metadata": {},
   "outputs": [],
   "source": [
    "ckpt_file = '../mnist/version_0/checkpoints/last.ckpt'\n",
    "checkpoint = torch.load(ckpt_file)"
   ]
  },
  {
   "cell_type": "code",
   "execution_count": null,
   "id": "ac4fef6e",
   "metadata": {},
   "outputs": [],
   "source": [
    "# ddpm = DDPM2d.load_from_checkpoint(ckpt_file, **checkpoint['hyper_parameters'])\n",
    "ddpm = DDPM2d(**checkpoint['hyper_parameters'])\n",
    "ddpm.load_state_dict(checkpoint['state_dict'])"
   ]
  },
  {
   "cell_type": "code",
   "execution_count": null,
   "id": "c2616dc2",
   "metadata": {},
   "outputs": [],
   "source": [
    "fig, (ax1, ax2) = plt.subplots(nrows=1, ncols=2, figsize=(8, 3))\n",
    "\n",
    "ax1.plot(np.arange(len(ddpm.betas)) + 1, ddpm.betas)\n",
    "ax1.set(xlim=(0, len(ddpm.betas)), ylim=(0, ddpm.betas.max()))\n",
    "ax1.set(xlabel='t', ylabel='$\\\\beta$')\n",
    "ax1.grid(visible=True, which='both', color='gray', alpha=0.2, linestyle='-')\n",
    "ax1.set_axisbelow(True)\n",
    "\n",
    "ax2.plot(np.arange(len(ddpm.alphas_bar)) + 1, ddpm.alphas_bar)\n",
    "ax2.set(xlim=(0, len(ddpm.alphas_bar)), ylim=(0, 1))\n",
    "ax2.set(xlabel='t', ylabel='$\\\\bar{\\\\alpha}$')\n",
    "ax2.grid(visible=True, which='both', color='gray', alpha=0.2, linestyle='-')\n",
    "ax2.set_axisbelow(True)\n",
    "\n",
    "fig.tight_layout()"
   ]
  },
  {
   "cell_type": "markdown",
   "id": "e5db5c55",
   "metadata": {},
   "source": [
    "## Forward process simulation"
   ]
  },
  {
   "cell_type": "code",
   "execution_count": null,
   "id": "5c9f5d2f",
   "metadata": {},
   "outputs": [],
   "source": [
    "x_noisy = ddpm.diffuse_all_steps(x_batch)"
   ]
  },
  {
   "cell_type": "code",
   "execution_count": null,
   "id": "0ed85552",
   "metadata": {},
   "outputs": [],
   "source": [
    "plot_steps = [0, 50, 100, 200, 500, 1000]\n",
    "\n",
    "sample_idx = np.random.randint(x_noisy.shape[1]) # select random sample from batch\n",
    "\n",
    "fig, axes = plt.subplots(nrows=1, ncols=len(plot_steps), figsize=(8, 2))\n",
    "for time_idx, ax in zip(plot_steps, axes.ravel()):\n",
    "    image = x_noisy[time_idx, sample_idx, 0].numpy()\n",
    "    ax.imshow(image, cmap='gray')\n",
    "    ax.set_title('{} steps'.format(time_idx))\n",
    "    ax.set(xticks=[], yticks=[], xlabel='', ylabel='')\n",
    "fig.tight_layout()"
   ]
  },
  {
   "cell_type": "markdown",
   "id": "bd9dc2bb",
   "metadata": {},
   "source": [
    "## Generation"
   ]
  },
  {
   "cell_type": "code",
   "execution_count": null,
   "id": "98b2f464",
   "metadata": {},
   "outputs": [],
   "source": [
    "device = torch.device('cuda:0' if torch.cuda.is_available() else 'cpu')\n",
    "ddpm = ddpm.to(device)"
   ]
  },
  {
   "cell_type": "code",
   "execution_count": null,
   "id": "10e73990",
   "metadata": {},
   "outputs": [],
   "source": [
    "ddpm.eval()\n",
    "x_denoise = ddpm.denoise_all_steps(torch.randn(16, 1, 28, 28).to(device)).cpu()"
   ]
  },
  {
   "cell_type": "code",
   "execution_count": null,
   "id": "4d1487a1",
   "metadata": {},
   "outputs": [],
   "source": [
    "plot_steps_reverse = [ddpm.num_steps - s for s in reversed(plot_steps)]\n",
    "\n",
    "sample_idx = np.random.randint(x_denoise.shape[1]) # select random sample from batch\n",
    "\n",
    "fig, axes = plt.subplots(nrows=1, ncols=len(plot_steps_reverse), figsize=(8, 2))\n",
    "for time_idx, ax in zip(plot_steps_reverse, axes.ravel()):\n",
    "    image = x_denoise[time_idx, sample_idx, 0].numpy()\n",
    "    ax.imshow(image, cmap='gray')\n",
    "    ax.set_title('{} steps'.format(time_idx))\n",
    "    ax.set(xticks=[], yticks=[], xlabel='', ylabel='')\n",
    "fig.tight_layout()"
   ]
  },
  {
   "cell_type": "code",
   "execution_count": null,
   "id": "c436cac6",
   "metadata": {},
   "outputs": [],
   "source": [
    "x_gen = ddpm.generate(sample_shape=(1, 28, 28), num_samples=16).cpu()"
   ]
  },
  {
   "cell_type": "code",
   "execution_count": null,
   "id": "b7ca6612",
   "metadata": {},
   "outputs": [],
   "source": [
    "fig, axes = plt.subplots(nrows=2, ncols=4, figsize=(5, 3))\n",
    "for idx, ax in enumerate(axes.ravel()):\n",
    "    image = x_gen[idx, 0].numpy()\n",
    "    ax.imshow(image, cmap='gray')\n",
    "    ax.set(xticks=[], yticks=[], xlabel='', ylabel='')\n",
    "fig.tight_layout()"
   ]
  }
 ],
 "metadata": {
  "kernelspec": {
   "display_name": "Python 3 (ipykernel)",
   "language": "python",
   "name": "python3"
  },
  "language_info": {
   "codemirror_mode": {
    "name": "ipython",
    "version": 3
   },
   "file_extension": ".py",
   "mimetype": "text/x-python",
   "name": "python",
   "nbconvert_exporter": "python",
   "pygments_lexer": "ipython3",
   "version": "3.10.9"
  }
 },
 "nbformat": 4,
 "nbformat_minor": 5
}
